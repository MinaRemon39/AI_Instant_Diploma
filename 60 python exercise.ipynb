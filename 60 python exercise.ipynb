{
 "cells": [
  {
   "cell_type": "markdown",
   "id": "759d04ba",
   "metadata": {},
   "source": [
    "**1-Write a Python program to calculate the length of a string using 2 ways"
   ]
  },
  {
   "cell_type": "code",
   "execution_count": 1,
   "id": "e434c950",
   "metadata": {},
   "outputs": [
    {
     "name": "stdout",
     "output_type": "stream",
     "text": [
      "Enter your string : mina\n",
      "First way : 4\n"
     ]
    }
   ],
   "source": [
    "x=input(\"Enter your string : \")\n",
    "print(f\"First way : {len(x)}\")"
   ]
  },
  {
   "cell_type": "code",
   "execution_count": 2,
   "id": "7a2dfa32",
   "metadata": {},
   "outputs": [
    {
     "name": "stdout",
     "output_type": "stream",
     "text": [
      "Second way : 4\n"
     ]
    }
   ],
   "source": [
    "num=0\n",
    "for i in x :\n",
    "    num+=1\n",
    "print(f\"Second way : {num}\")"
   ]
  },
  {
   "cell_type": "markdown",
   "id": "d7cc9da7",
   "metadata": {},
   "source": [
    "**2-Write a Python program to get a string made of the first 2 and last 2 characters of a given string. If the string length is less than 2, return the empty string instead (\"##Sample String : 'w3resource'\n",
    "Expected Result : 'w3ce'\n",
    "##Sample String : 'w3'\n",
    "Expected Result : 'w3w3'\n",
    "##Sample String : ' w'\n",
    "Expected Result : Empty String)"
   ]
  },
  {
   "cell_type": "code",
   "execution_count": 5,
   "id": "dafa9dd8",
   "metadata": {},
   "outputs": [
    {
     "name": "stdout",
     "output_type": "stream",
     "text": [
      "w\n",
      "\n"
     ]
    }
   ],
   "source": [
    "st=input()\n",
    "length=len(st)\n",
    "if(length<2):\n",
    "    print('')\n",
    "else:\n",
    "    print(f\"{st[:2]}{st[-2:]}\")\n",
    "    "
   ]
  },
  {
   "cell_type": "markdown",
   "id": "1534f956",
   "metadata": {},
   "source": [
    "**3-Write a Python program to add 'ing' at the end of a given string (length should be at least 3). If the given string already ends with 'ing', add 'ly' instead. If the string length of the given string is less than 3, leave it unchanged. (Sample String : 'abc'\n",
    "Expected Result : 'abcing')"
   ]
  },
  {
   "cell_type": "code",
   "execution_count": 8,
   "id": "7ff8cec4",
   "metadata": {},
   "outputs": [
    {
     "name": "stdout",
     "output_type": "stream",
     "text": [
      "ab\n",
      "ab\n"
     ]
    }
   ],
   "source": [
    "st=input()\n",
    "if(len(st)<3):\n",
    "    print(st)\n",
    "elif(st[-3:]=='ing'):\n",
    "    print(f\"{st}ly\")\n",
    "else:\n",
    "    print(f\"{st}ing\")"
   ]
  },
  {
   "cell_type": "markdown",
   "id": "1c0a6627",
   "metadata": {},
   "source": [
    "**4-Write a Python function that takes a list of words and return the longest word and the length of the longest one\n",
    "(Longest word: Exercises\n",
    "Length of the longest word: 9)"
   ]
  },
  {
   "cell_type": "code",
   "execution_count": 59,
   "id": "397341d9",
   "metadata": {},
   "outputs": [],
   "source": [
    "def longest_word(*words):\n",
    "    index_of_longest=0\n",
    "    for i in range(1,len(words)):\n",
    "        if len(words[index_of_longest])<len(words[i]):\n",
    "            index_of_longest=i\n",
    "        \n",
    "    return words[index_of_longest],len(words[index_of_longest])"
   ]
  },
  {
   "cell_type": "markdown",
   "id": "53a03a6a",
   "metadata": {},
   "source": [
    "**5-Write a Python program to change a given string to a newly string where the first and last chars have been exchanged using 2 ways (Sample String:abca  Expected Result:ebce)"
   ]
  },
  {
   "cell_type": "code",
   "execution_count": 37,
   "id": "fd327d2a",
   "metadata": {},
   "outputs": [
    {
     "name": "stdout",
     "output_type": "stream",
     "text": [
      "abcde\n"
     ]
    },
    {
     "data": {
      "text/plain": [
       "'ebcda'"
      ]
     },
     "execution_count": 37,
     "metadata": {},
     "output_type": "execute_result"
    }
   ],
   "source": [
    "x=input()\n",
    "new_string=x[-1]+x[1:-1]+x[0]\n",
    "new_string"
   ]
  },
  {
   "cell_type": "code",
   "execution_count": 36,
   "id": "285788b4",
   "metadata": {},
   "outputs": [
    {
     "name": "stdout",
     "output_type": "stream",
     "text": [
      "abcde\n"
     ]
    },
    {
     "data": {
      "text/plain": [
       "'ebcda'"
      ]
     },
     "execution_count": 36,
     "metadata": {},
     "output_type": "execute_result"
    }
   ],
   "source": [
    "x=input()\n",
    "def exchange1(string):\n",
    "    new_string=''\n",
    "    for i in range(len(string)):\n",
    "        if i==0 :\n",
    "            new_string+=string[-1]\n",
    "        elif i==len(string)-1:\n",
    "            new_string+=x[0]\n",
    "        else:\n",
    "            new_string+=string[i]\n",
    "    return new_string\n",
    "exchange1(x)"
   ]
  },
  {
   "cell_type": "code",
   "execution_count": 35,
   "id": "58617dc6",
   "metadata": {},
   "outputs": [
    {
     "name": "stdout",
     "output_type": "stream",
     "text": [
      "abcde\n"
     ]
    },
    {
     "data": {
      "text/plain": [
       "'ebcda'"
      ]
     },
     "execution_count": 35,
     "metadata": {},
     "output_type": "execute_result"
    }
   ],
   "source": [
    "#Third way\n",
    "x=input()\n",
    "def exchange2(string):\n",
    "    li=list(string)\n",
    "    end=li[-1]\n",
    "    li[-1]=li[0]\n",
    "    li[0]=end\n",
    "    new_string=''.join(li)\n",
    "    return new_string\n",
    "exchange2(x)"
   ]
  },
  {
   "cell_type": "markdown",
   "id": "25f89808",
   "metadata": {},
   "source": [
    "**6-Write a Python program to remove characters that have odd index values in a given string (Sample String:abca Expected Result:ac)"
   ]
  },
  {
   "cell_type": "code",
   "execution_count": 7,
   "id": "05959bd7",
   "metadata": {},
   "outputs": [
    {
     "name": "stdout",
     "output_type": "stream",
     "text": [
      "abca\n"
     ]
    },
    {
     "data": {
      "text/plain": [
       "'ac'"
      ]
     },
     "execution_count": 7,
     "metadata": {},
     "output_type": "execute_result"
    }
   ],
   "source": [
    "x=input()\n",
    "def remove_char(string):\n",
    "    new_string=''\n",
    "    for i in range(len(string)):\n",
    "        if i%2==1:\n",
    "            continue\n",
    "        new_string+=string[i]\n",
    "    return new_string"
   ]
  },
  {
   "cell_type": "markdown",
   "id": "eb16e898",
   "metadata": {},
   "source": [
    "**7-Write a Python program to count the occurrences of each word in a given sentence (Sample String:amr and ahmed are frindes but amr is the tallest Expected Result:2)"
   ]
  },
  {
   "cell_type": "code",
   "execution_count": 3,
   "id": "01ce6cf5",
   "metadata": {},
   "outputs": [
    {
     "name": "stdout",
     "output_type": "stream",
     "text": [
      "amr and ahmed are frindes but amr is the tallest\n"
     ]
    },
    {
     "data": {
      "text/plain": [
       "{'but': 1,\n",
       " 'tallest': 1,\n",
       " 'and': 1,\n",
       " 'ahmed': 1,\n",
       " 'amr': 2,\n",
       " 'frindes': 1,\n",
       " 'is': 1,\n",
       " 'are': 1,\n",
       " 'the': 1}"
      ]
     },
     "execution_count": 3,
     "metadata": {},
     "output_type": "execute_result"
    }
   ],
   "source": [
    "x=input()\n",
    "def count_plus(string):\n",
    "    li=set(string.split())\n",
    "    dictionary=dict()\n",
    "    for i in li:\n",
    "        dictionary[i]=string.count(i)\n",
    "    return dictionary\n",
    "    \n",
    "count_plus(x)"
   ]
  },
  {
   "cell_type": "markdown",
   "id": "4e8125f1",
   "metadata": {},
   "source": [
    "**8-Write a Python script that takes input from the user and displays that input back in upper and lower cases"
   ]
  },
  {
   "cell_type": "code",
   "execution_count": 40,
   "id": "66c8f778",
   "metadata": {},
   "outputs": [
    {
     "name": "stdout",
     "output_type": "stream",
     "text": [
      "MiNa\n",
      "MINA\n",
      "mina\n"
     ]
    }
   ],
   "source": [
    "x=input()\n",
    "def new_print(string):\n",
    "    print(string.upper())\n",
    "    print(string.lower())\n",
    "new_print(x)"
   ]
  },
  {
   "cell_type": "markdown",
   "id": "fcd68aa1",
   "metadata": {},
   "source": [
    "**9-Write a Python function to reverse a string if its length is a multiple of 4"
   ]
  },
  {
   "cell_type": "code",
   "execution_count": null,
   "id": "0671a931",
   "metadata": {},
   "outputs": [],
   "source": [
    "def reverse_func(string):\n",
    "    if len(string)%4==0:\n",
    "        string=string[::-1]\n",
    "    return string"
   ]
  },
  {
   "cell_type": "markdown",
   "id": "b577c68d",
   "metadata": {},
   "source": [
    "**10- Write a Python program to remove a newline in Python"
   ]
  },
  {
   "cell_type": "code",
   "execution_count": 42,
   "id": "e0c6525a",
   "metadata": {},
   "outputs": [],
   "source": [
    "def remove_n1(string):\n",
    "    string=string.replace(\"\\n\",\" \")\n",
    "    return string"
   ]
  },
  {
   "cell_type": "code",
   "execution_count": 41,
   "id": "181937b2",
   "metadata": {},
   "outputs": [],
   "source": [
    "#Second way\n",
    "def remove_n2(string):\n",
    "    li=string.splitlines()\n",
    "    return \" \".join(li)"
   ]
  },
  {
   "cell_type": "markdown",
   "id": "80db5ae0",
   "metadata": {},
   "source": [
    "**11-Write a Python program to check whether a string starts with specified characters"
   ]
  },
  {
   "cell_type": "code",
   "execution_count": 30,
   "id": "0cc4e03e",
   "metadata": {},
   "outputs": [
    {
     "name": "stdout",
     "output_type": "stream",
     "text": [
      "What is your string : Mina\n",
      "what is the char : M\n",
      "True\n"
     ]
    }
   ],
   "source": [
    "def start_with(string,char):\n",
    "    if string[0]==char:\n",
    "        print(\"True\")\n",
    "\n",
    "x=input(\"What is your string : \")\n",
    "ch=input(\"what is the char : \")\n",
    "start_with(x,ch)"
   ]
  },
  {
   "cell_type": "code",
   "execution_count": 32,
   "id": "3e57681b",
   "metadata": {},
   "outputs": [
    {
     "name": "stdout",
     "output_type": "stream",
     "text": [
      "What is your string : Mina\n",
      "what is the char : M\n",
      "True\n"
     ]
    }
   ],
   "source": [
    "x=input(\"What is your string : \")\n",
    "ch=input(\"what is the char : \")\n",
    "if x.startswith(ch):\n",
    "    print(\"True\")"
   ]
  },
  {
   "cell_type": "markdown",
   "id": "593a68db",
   "metadata": {},
   "source": [
    "**12- Write a Python program to add prefix text to all of the lines in a string"
   ]
  },
  {
   "cell_type": "code",
   "execution_count": null,
   "id": "d2e46ada",
   "metadata": {},
   "outputs": [],
   "source": [
    "def prefix_text(main_string,prefix_string):\n",
    "    li=main_string.splitlines()\n",
    "    li[0]=prefix_string + \" \"+li[0]\n",
    "    prefix_string=\"\\n\"+prefix_string+\" \"\n",
    "    new_string=prefix_string.join(li)\n",
    "    return new_string"
   ]
  },
  {
   "cell_type": "markdown",
   "id": "86fa1543",
   "metadata": {},
   "source": [
    "**13-Write a Python program to print the following numbers up to 2 decimal places"
   ]
  },
  {
   "cell_type": "code",
   "execution_count": 45,
   "id": "cd4a9d89",
   "metadata": {},
   "outputs": [],
   "source": [
    "def print_nums(nums):\n",
    "    for i in range(len(nums)):\n",
    "        nums[i]=\"{:.2F}\".format(nums[i])\n",
    "        print(nums[i])"
   ]
  },
  {
   "cell_type": "markdown",
   "id": "452c0ab0",
   "metadata": {},
   "source": [
    "**14-Write a Python program to print the following numbers up to 2 decimal places with a sign"
   ]
  },
  {
   "cell_type": "code",
   "execution_count": null,
   "id": "73e82479",
   "metadata": {},
   "outputs": [],
   "source": [
    "def print_nums2(nums):\n",
    "    for i in range(len(nums)):\n",
    "        nums[i]=\"{:+.2F}\".format(nums[i])\n",
    "        print(nums[i])"
   ]
  },
  {
   "cell_type": "markdown",
   "id": "32b1811a",
   "metadata": {},
   "source": [
    "**15-Write a Python program to display a number with a comma separator"
   ]
  },
  {
   "cell_type": "code",
   "execution_count": 53,
   "id": "f30fc0b6",
   "metadata": {},
   "outputs": [
    {
     "name": "stdout",
     "output_type": "stream",
     "text": [
      "241441526\n"
     ]
    },
    {
     "data": {
      "text/plain": [
       "'241,441,526'"
      ]
     },
     "execution_count": 53,
     "metadata": {},
     "output_type": "execute_result"
    }
   ],
   "source": [
    "num=int(input())\n",
    "\"{:,}\".format(num)"
   ]
  },
  {
   "cell_type": "markdown",
   "id": "0477f487",
   "metadata": {},
   "source": [
    "**16-Write a Python program to reverse a string using 2 ways"
   ]
  },
  {
   "cell_type": "code",
   "execution_count": 4,
   "id": "aa8beec8",
   "metadata": {},
   "outputs": [
    {
     "data": {
      "text/plain": [
       "'tnatsnI'"
      ]
     },
     "execution_count": 4,
     "metadata": {},
     "output_type": "execute_result"
    }
   ],
   "source": [
    "def reverse1(string):\n",
    "    string=string[::-1]\n",
    "    return string\n",
    "reverse1(\"Instant\")"
   ]
  },
  {
   "cell_type": "code",
   "execution_count": 11,
   "id": "4d8140e3",
   "metadata": {},
   "outputs": [
    {
     "data": {
      "text/plain": [
       "'tnatsnI'"
      ]
     },
     "execution_count": 11,
     "metadata": {},
     "output_type": "execute_result"
    }
   ],
   "source": [
    "def reverse2(string):\n",
    "    li=list(string)\n",
    "    li.reverse()\n",
    "    string=\"\".join(li)\n",
    "    return string\n",
    "reverse2(\"Instant\")"
   ]
  },
  {
   "cell_type": "code",
   "execution_count": 12,
   "id": "cc9db893",
   "metadata": {},
   "outputs": [
    {
     "data": {
      "text/plain": [
       "'tnatsnI'"
      ]
     },
     "execution_count": 12,
     "metadata": {},
     "output_type": "execute_result"
    }
   ],
   "source": [
    "def reverse3(string):\n",
    "    new_string=''\n",
    "    for i in range(1,len(string)+1) :\n",
    "        new_string+=string[len(string)-i]\n",
    "    return new_string\n",
    "reverse3(\"Instant\")"
   ]
  },
  {
   "cell_type": "markdown",
   "id": "5afc3166",
   "metadata": {},
   "source": [
    " **17-Write a Python program to count repeated characters in a string (hint:use dictionary)"
   ]
  },
  {
   "cell_type": "code",
   "execution_count": 6,
   "id": "515a469c",
   "metadata": {},
   "outputs": [
    {
     "data": {
      "text/plain": [
       "{'s': 1, 'I': 1, 'n': 2, 'a': 1, 't': 2}"
      ]
     },
     "execution_count": 6,
     "metadata": {},
     "output_type": "execute_result"
    }
   ],
   "source": [
    "def count_char(string):\n",
    "    se=set(list(string))\n",
    "    dictionary=dict()\n",
    "    for i in se:\n",
    "        dictionary[i]=string.count(i)\n",
    "    return dictionary\n",
    "count_char(\"Instant\")"
   ]
  },
  {
   "cell_type": "markdown",
   "id": "ae14e4e5",
   "metadata": {},
   "source": [
    "**18-Write a Python program to find the first non-repeating character in a given string"
   ]
  },
  {
   "cell_type": "code",
   "execution_count": 8,
   "id": "d73778e5",
   "metadata": {},
   "outputs": [
    {
     "name": "stdout",
     "output_type": "stream",
     "text": [
      "L\n"
     ]
    }
   ],
   "source": [
    "def non_repeating(string):\n",
    "    for i in string:\n",
    "        if string.count(i)==1 : \n",
    "            print(i)\n",
    "            break\n",
    "non_repeating(\"EELU\")"
   ]
  },
  {
   "cell_type": "markdown",
   "id": "3adf5669",
   "metadata": {},
   "source": [
    "**19-Write a Python program to remove spaces from a given string"
   ]
  },
  {
   "cell_type": "code",
   "execution_count": 9,
   "id": "b4f22602",
   "metadata": {},
   "outputs": [
    {
     "data": {
      "text/plain": [
       "'Instant'"
      ]
     },
     "execution_count": 9,
     "metadata": {},
     "output_type": "execute_result"
    }
   ],
   "source": [
    "def without_spaces(string):\n",
    "    li=string.split()\n",
    "    string=''.join(li)\n",
    "    return string\n",
    "without_spaces(\"I  n s t    a n t\")"
   ]
  },
  {
   "cell_type": "markdown",
   "id": "734de60c",
   "metadata": {},
   "source": [
    "**20-Write a Python program to count the number of non-empty substrings of a given string"
   ]
  },
  {
   "cell_type": "code",
   "execution_count": 11,
   "id": "ef3f2274",
   "metadata": {},
   "outputs": [
    {
     "data": {
      "text/plain": [
       "3.0"
      ]
     },
     "execution_count": 11,
     "metadata": {},
     "output_type": "execute_result"
    }
   ],
   "source": [
    "def count_subs(string):\n",
    "    l=len(string)\n",
    "    return (l*(l+1)/2)\n",
    "count_subs(\"In\")"
   ]
  },
  {
   "cell_type": "markdown",
   "id": "509998e2",
   "metadata": {},
   "source": [
    "**21-write a Python program to swap first and last element of any list."
   ]
  },
  {
   "cell_type": "code",
   "execution_count": 13,
   "id": "68692d7f",
   "metadata": {},
   "outputs": [
    {
     "data": {
      "text/plain": [
       "['AI', 'Dibloma', 'Instant']"
      ]
     },
     "execution_count": 13,
     "metadata": {},
     "output_type": "execute_result"
    }
   ],
   "source": [
    "def swap_first_end(li):\n",
    "    end=li[-1]\n",
    "    li[-1]=li[0]\n",
    "    li[0]=end\n",
    "    return li\n",
    "swap_first_end([\"Instant\",\"Dibloma\",\"AI\"])"
   ]
  },
  {
   "cell_type": "markdown",
   "id": "959e0837",
   "metadata": {},
   "source": [
    "**22-Given a list in Python and provided the positions of the elements, write a program to swap the two elements in the list. (Input : List = [23, 65, 19, 90], pos1 = 1, pos2 = 3\n",
    "Output : [19, 65, 23, 90])"
   ]
  },
  {
   "cell_type": "code",
   "execution_count": 21,
   "id": "225d8c6d",
   "metadata": {},
   "outputs": [
    {
     "data": {
      "text/plain": [
       "[19, 65, 23, 90]"
      ]
     },
     "execution_count": 21,
     "metadata": {},
     "output_type": "execute_result"
    }
   ],
   "source": [
    "def swapping(li,pos1,pos2):\n",
    "    first=li[pos1-1]\n",
    "    li[pos1-1]=li[pos2-1]\n",
    "    li[pos2-1]=first\n",
    "    return li \n",
    "swapping([23, 65, 19, 90],1,3)"
   ]
  },
  {
   "cell_type": "markdown",
   "id": "66fc6682",
   "metadata": {},
   "source": [
    "**23- search for the all ways to know the length of the list"
   ]
  },
  {
   "cell_type": "code",
   "execution_count": 2,
   "id": "a81b25bc",
   "metadata": {},
   "outputs": [
    {
     "name": "stdout",
     "output_type": "stream",
     "text": [
      "6\n"
     ]
    }
   ],
   "source": [
    "li=list((1,2,3,4,5,6))\n",
    "print(len(li))"
   ]
  },
  {
   "cell_type": "code",
   "execution_count": 3,
   "id": "a3a3f6c6",
   "metadata": {},
   "outputs": [
    {
     "data": {
      "text/plain": [
       "6"
      ]
     },
     "execution_count": 3,
     "metadata": {},
     "output_type": "execute_result"
    }
   ],
   "source": [
    "def get_length(li):\n",
    "    c=0\n",
    "    for i in li:\n",
    "        c+=1\n",
    "    return c\n",
    "get_length(li)"
   ]
  },
  {
   "cell_type": "code",
   "execution_count": 4,
   "id": "db5fabd6",
   "metadata": {},
   "outputs": [
    {
     "name": "stdout",
     "output_type": "stream",
     "text": [
      "6\n"
     ]
    }
   ],
   "source": [
    "print(li.__len__())"
   ]
  },
  {
   "cell_type": "code",
   "execution_count": 7,
   "id": "f09f7dfe",
   "metadata": {},
   "outputs": [
    {
     "data": {
      "text/plain": [
       "6"
      ]
     },
     "execution_count": 7,
     "metadata": {},
     "output_type": "execute_result"
    }
   ],
   "source": [
    "from operator import length_hint\n",
    "length_hint(li)"
   ]
  },
  {
   "cell_type": "markdown",
   "id": "9ea6cade",
   "metadata": {},
   "source": [
    "**24-write a Python code to find the Maximum number of list of numbers."
   ]
  },
  {
   "cell_type": "code",
   "execution_count": 41,
   "id": "15f342de",
   "metadata": {},
   "outputs": [
    {
     "name": "stdout",
     "output_type": "stream",
     "text": [
      "1 2 3 4 45 6\n"
     ]
    },
    {
     "data": {
      "text/plain": [
       "45"
      ]
     },
     "execution_count": 41,
     "metadata": {},
     "output_type": "execute_result"
    }
   ],
   "source": [
    "max(list(map(int,input().split())))"
   ]
  },
  {
   "cell_type": "markdown",
   "id": "9ab8224d",
   "metadata": {},
   "source": [
    "**25-write a Python code to find the Minimum number of list of numbers."
   ]
  },
  {
   "cell_type": "code",
   "execution_count": 42,
   "id": "21f8cbd6",
   "metadata": {},
   "outputs": [
    {
     "name": "stdout",
     "output_type": "stream",
     "text": [
      "1 2 \n"
     ]
    },
    {
     "data": {
      "text/plain": [
       "1"
      ]
     },
     "execution_count": 42,
     "metadata": {},
     "output_type": "execute_result"
    }
   ],
   "source": [
    "min(list(map(int,input().split())))"
   ]
  },
  {
   "cell_type": "markdown",
   "id": "96822d96",
   "metadata": {},
   "source": [
    "**26-search for if an element is existing in list"
   ]
  },
  {
   "cell_type": "code",
   "execution_count": 33,
   "id": "51ca5c9a",
   "metadata": {},
   "outputs": [
    {
     "name": "stdout",
     "output_type": "stream",
     "text": [
      "found\n"
     ]
    }
   ],
   "source": [
    "def find_element1(li,element):\n",
    "    try :\n",
    "        li.index(element)\n",
    "    except ValueError:\n",
    "        print('not found')\n",
    "    else :\n",
    "        print(\"found\")\n",
    "find_element1([1,2,4,5,6,7,8],7)"
   ]
  },
  {
   "cell_type": "code",
   "execution_count": 37,
   "id": "397f151c",
   "metadata": {},
   "outputs": [
    {
     "name": "stdout",
     "output_type": "stream",
     "text": [
      "not found\n"
     ]
    }
   ],
   "source": [
    "def find_element2(li,element):\n",
    "    if element in li :\n",
    "        print(\"found\")\n",
    "    else:\n",
    "        print(\"not found\")\n",
    "\n",
    "find_element2([1,2,4,5,6,7,8],9)"
   ]
  },
  {
   "cell_type": "markdown",
   "id": "d9557da7",
   "metadata": {},
   "source": [
    "**27- clear python list using different ways"
   ]
  },
  {
   "cell_type": "code",
   "execution_count": 52,
   "id": "b69858a3",
   "metadata": {},
   "outputs": [
    {
     "data": {
      "text/plain": [
       "[]"
      ]
     },
     "execution_count": 52,
     "metadata": {},
     "output_type": "execute_result"
    }
   ],
   "source": [
    "def clear1(li):\n",
    "    while(li):\n",
    "        del li[0]\n",
    "    return li\n",
    "\n",
    "clear1([1,2,3,4,5,6])"
   ]
  },
  {
   "cell_type": "code",
   "execution_count": 56,
   "id": "0b68076d",
   "metadata": {},
   "outputs": [
    {
     "name": "stdout",
     "output_type": "stream",
     "text": [
      "[]\n"
     ]
    }
   ],
   "source": [
    "li=[1,101,54,1515,1,1,1]\n",
    "li.clear()\n",
    "print(li)"
   ]
  },
  {
   "cell_type": "markdown",
   "id": "52160e88",
   "metadata": {},
   "source": [
    "**28-remove duplicated elements from a list"
   ]
  },
  {
   "cell_type": "code",
   "execution_count": 62,
   "id": "5e362228",
   "metadata": {},
   "outputs": [
    {
     "data": {
      "text/plain": [
       "[5, 1, 6, 7, 8, 9]"
      ]
     },
     "execution_count": 62,
     "metadata": {},
     "output_type": "execute_result"
    }
   ],
   "source": [
    "def remove_duplicate(li):\n",
    "    for i in li :\n",
    "        for j in range(li.count(i)-1):\n",
    "            li.remove(i)\n",
    "    return li\n",
    "li=[1,1,5,1,6,7,8,7,8,9]\n",
    "remove_duplicate(li)"
   ]
  },
  {
   "cell_type": "code",
   "execution_count": 63,
   "id": "a2e21fc6",
   "metadata": {},
   "outputs": [
    {
     "data": {
      "text/plain": [
       "[1, 5, 6, 7, 8, 9]"
      ]
     },
     "execution_count": 63,
     "metadata": {},
     "output_type": "execute_result"
    }
   ],
   "source": [
    "li=[1,1,5,1,6,7,8,7,8,9]\n",
    "li=list(set(li))\n",
    "li"
   ]
  },
  {
   "cell_type": "markdown",
   "id": "282337f7",
   "metadata": {},
   "source": [
    "**29-Given list values and keys list, convert these values to key value pairs in form of list of dictionaries. (Input : test_list = [“Gfg”, 3, “is”, 8], key_list = [“name”, “id”]\n",
    "Output : [{‘name’: ‘Gfg’, ‘id’: 3}, {‘name’: ‘is’, ‘id’: 8}])"
   ]
  },
  {
   "cell_type": "code",
   "execution_count": 2,
   "id": "4d4e2d28",
   "metadata": {},
   "outputs": [
    {
     "data": {
      "text/plain": [
       "[{'name': 'Gfg', 'id': 3}, {'name': 'is', 'id': 8}]"
      ]
     },
     "execution_count": 2,
     "metadata": {},
     "output_type": "execute_result"
    }
   ],
   "source": [
    "def to_dictionary(keys,values):\n",
    "    j=0\n",
    "    res=list()\n",
    "    dictionary=dict()\n",
    "    for i in range(len(values)):\n",
    "        dictionary[keys[j]]=values[i]\n",
    "        \n",
    "        if (i+1)%len(keys)==0:\n",
    "            j=0\n",
    "            res.append(dictionary)\n",
    "            dictionary={}\n",
    "            continue\n",
    "        j+=1\n",
    "    return res\n",
    "\n",
    "to_dictionary([\"name\", \"id\"],[\"Gfg\", 3, \"is\", 8])"
   ]
  },
  {
   "cell_type": "markdown",
   "id": "c26b6e9f",
   "metadata": {},
   "source": [
    "**30-write a python program to count unique values inside a list using different ways"
   ]
  },
  {
   "cell_type": "code",
   "execution_count": 7,
   "id": "72132667",
   "metadata": {},
   "outputs": [
    {
     "name": "stdout",
     "output_type": "stream",
     "text": [
      "1 2 3 3 4 4 2\n"
     ]
    },
    {
     "data": {
      "text/plain": [
       "1"
      ]
     },
     "execution_count": 7,
     "metadata": {},
     "output_type": "execute_result"
    }
   ],
   "source": [
    "def count_unique(li):\n",
    "    c = [i for i in set(li) if li.count(i) == 1]\n",
    "    return len(c)\n",
    "count_unique(list(map(int,input().split())))"
   ]
  },
  {
   "cell_type": "markdown",
   "id": "fed6677c",
   "metadata": {},
   "source": [
    "**31-write a python program Extract all elements with Frequency greater than K (Input : test_list = [4, 6, 4, 3, 3, 4, 3, 4, 3, 8], K = 3 \n",
    "Output : [4, 3] )"
   ]
  },
  {
   "cell_type": "code",
   "execution_count": 12,
   "id": "d81f3f9d",
   "metadata": {},
   "outputs": [
    {
     "data": {
      "text/plain": [
       "[3, 4]"
      ]
     },
     "execution_count": 12,
     "metadata": {},
     "output_type": "execute_result"
    }
   ],
   "source": [
    "def extract_elements(li,freq):\n",
    "    c = [i for i in set(li) if li.count(i)>=freq]\n",
    "    return c \n",
    "extract_elements([4, 6, 4, 3, 3, 4, 3, 4, 3, 8],3)"
   ]
  },
  {
   "cell_type": "markdown",
   "id": "caca5224",
   "metadata": {},
   "source": [
    "**32-write a python program to find the Strongest Neighbour (Input: 1 2 2 3 4 5\n",
    "Output: 2 2 3 4 5)"
   ]
  },
  {
   "cell_type": "code",
   "execution_count": 2,
   "id": "39fbd9b2",
   "metadata": {},
   "outputs": [
    {
     "data": {
      "text/plain": [
       "[2, 2, 3, 4, 5]"
      ]
     },
     "execution_count": 2,
     "metadata": {},
     "output_type": "execute_result"
    }
   ],
   "source": [
    "def strongest_neighbour(li):\n",
    "    new_li=list()\n",
    "    for i in range(len(li)-1):\n",
    "        new_li.append(max(li[i],li[i+1]))\n",
    "    return new_li\n",
    "strongest_neighbour([1,2,2,3,4,5])"
   ]
  },
  {
   "cell_type": "markdown",
   "id": "a9fa8baf",
   "metadata": {},
   "source": [
    "**33-write a Python Program to print all Possible Combinations from the three Digits (Input: [1, 2, 3]\n",
    "Output:\n",
    "1 2 3 ##\n",
    "1 3 2 ##\n",
    "2 1 3 ##\n",
    "2 3 1 ##\n",
    "3 1 2 ##\n",
    "3 2 1)"
   ]
  },
  {
   "cell_type": "code",
   "execution_count": 25,
   "id": "8c520a76",
   "metadata": {},
   "outputs": [
    {
     "name": "stdout",
     "output_type": "stream",
     "text": [
      "Permutation : [(1, 2, 3), (1, 3, 2), (2, 1, 3), (2, 3, 1), (3, 1, 2), (3, 2, 1)]\n"
     ]
    }
   ],
   "source": [
    "from itertools import permutations\n",
    "print(f\"Permutation : {list(permutations([1,2,3],3))}\")"
   ]
  },
  {
   "cell_type": "markdown",
   "id": "5288bb89",
   "metadata": {},
   "source": [
    "**34-write a Python program to find all the Combinations in the list with the given condition (Input: test_list = [1,2,3] \n",
    "Output: \n",
    " [1], [1, 2], [1, 2, 3], [1, 3]\n",
    " [2], [2, 3], [3])"
   ]
  },
  {
   "cell_type": "code",
   "execution_count": 32,
   "id": "59b89646",
   "metadata": {},
   "outputs": [
    {
     "data": {
      "text/plain": [
       "[(1,), (2,), (3,), (1, 2), (1, 3), (2, 3), (1, 2, 3)]"
      ]
     },
     "execution_count": 32,
     "metadata": {},
     "output_type": "execute_result"
    }
   ],
   "source": [
    "from itertools import combinations\n",
    "def all_combinations(li):\n",
    "    res=[]\n",
    "    for i in range(len(li)):\n",
    "        res+=list(combinations(li,i+1))\n",
    "    return res\n",
    "\n",
    "all_combinations(li)    "
   ]
  },
  {
   "cell_type": "markdown",
   "id": "39973705",
   "metadata": {},
   "source": [
    "**35-write a Python program to get all unique combinations of two Lists (List_1 = [\"a\",\"b\"]\n",
    "List_2 = [1,2]\n",
    "Unique_combination = [[('a',1),('b',2)],[('a',2),('b',1)]] )"
   ]
  },
  {
   "cell_type": "code",
   "execution_count": 44,
   "id": "8c4ba22b",
   "metadata": {},
   "outputs": [
    {
     "data": {
      "text/plain": [
       "[[('a', 1), ('b', 1)], [('a', 2), ('b', 2)], [('a', 3), ('b', 3)]]"
      ]
     },
     "execution_count": 44,
     "metadata": {},
     "output_type": "execute_result"
    }
   ],
   "source": [
    "def unique_combinations(l1,l2):\n",
    "    big_list=[]\n",
    "    for i in l2:\n",
    "        small_list=[]\n",
    "        for j in l1:\n",
    "            small_list.append(tuple((j,i)))\n",
    "        big_list.append(small_list)\n",
    "    return big_list\n",
    "unique_combinations(['a','b'],[1,2,3])"
   ]
  },
  {
   "cell_type": "markdown",
   "id": "25199af5",
   "metadata": {},
   "source": [
    " **36-Remove all the occurrences of an element from a list in Python (Input : 1 1 2 3 4 5 1 2 1 \n",
    "\n",
    "**Output : 2 3 4 5 2)"
   ]
  },
  {
   "cell_type": "code",
   "execution_count": 48,
   "id": "6dc4c2ba",
   "metadata": {},
   "outputs": [
    {
     "data": {
      "text/plain": [
       "[2, 3, 4, 5, 2]"
      ]
     },
     "execution_count": 48,
     "metadata": {},
     "output_type": "execute_result"
    }
   ],
   "source": [
    "def remove_element(li,element):\n",
    "    for i in range(li.count(element)):\n",
    "        del li[li.index(element)]\n",
    "    return li\n",
    "remove_element([1 ,1 ,2 ,3 ,4 ,5 ,1 ,2 ,1],1)\n"
   ]
  },
  {
   "cell_type": "code",
   "execution_count": 50,
   "id": "a0fdfed5",
   "metadata": {},
   "outputs": [
    {
     "data": {
      "text/plain": [
       "[2, 3, 4, 5, 2]"
      ]
     },
     "execution_count": 50,
     "metadata": {},
     "output_type": "execute_result"
    }
   ],
   "source": [
    "def remove_element2(li,element):\n",
    "    while element in li:\n",
    "        li.remove(element)\n",
    "    return li\n",
    "remove_element2([1 ,1 ,2 ,3 ,4 ,5 ,1 ,2 ,1],1)"
   ]
  },
  {
   "cell_type": "markdown",
   "id": "bf1a3c93",
   "metadata": {},
   "source": [
    "**37-write a python program to Replace index elements with elements in Other List\n",
    "(The original list 1 is : [‘Gfg’, ‘is’, ‘best’] \n",
    "The original list 2 is : [0, 1, 2, 1, 0, 0, 0, 2, 1, 1, 2, 0] \n",
    "The lists after index elements replacements is : [‘Gfg’, ‘is’, ‘best’, ‘is’, ‘Gfg’, ‘Gfg’, ‘Gfg’, ‘best’, ‘is’, ‘is’, ‘best’, ‘Gfg’])"
   ]
  },
  {
   "cell_type": "code",
   "execution_count": 51,
   "id": "fdd66a71",
   "metadata": {},
   "outputs": [
    {
     "data": {
      "text/plain": [
       "['Gfg',\n",
       " 'is',\n",
       " 'best',\n",
       " 'is',\n",
       " 'Gfg',\n",
       " 'Gfg',\n",
       " 'Gfg',\n",
       " 'best',\n",
       " 'is',\n",
       " 'is',\n",
       " 'best',\n",
       " 'Gfg']"
      ]
     },
     "execution_count": 51,
     "metadata": {},
     "output_type": "execute_result"
    }
   ],
   "source": [
    "def replace(li1,li2):\n",
    "    for i in range(len(li2)):\n",
    "        li2[i]=li1[li2[i]]\n",
    "    return li2\n",
    "replace(['Gfg', 'is', 'best'],[0, 1, 2, 1, 0, 0, 0, 2, 1, 1, 2, 0])"
   ]
  },
  {
   "cell_type": "markdown",
   "id": "af0f56e8",
   "metadata": {},
   "source": [
    "**38- write python program to Retain records with N occurrences of K(Input : test_list = [(4, 5, 5, 4), (5, 4, 3)], K = 5, N = 2 \n",
    "Output : [(4, 5, 5, 4)]\n",
    "Input : test_list = [(4, 5, 5, 4), (5, 4, 3)], K = 5, N = 3 \n",
    "Output : [] )"
   ]
  },
  {
   "cell_type": "code",
   "execution_count": 53,
   "id": "67b06671",
   "metadata": {},
   "outputs": [
    {
     "data": {
      "text/plain": [
       "[]"
      ]
     },
     "execution_count": 53,
     "metadata": {},
     "output_type": "execute_result"
    }
   ],
   "source": [
    "def match(li,k,n):\n",
    "    for i in li:\n",
    "        if i.count(k)==n : \n",
    "            return i\n",
    "    return []\n",
    "match([(4, 5, 5, 4), (5, 4, 3)], 5,  3)"
   ]
  },
  {
   "cell_type": "markdown",
   "id": "de76f183",
   "metadata": {},
   "source": [
    "**39-write a Python Program to Sort the list according to the column using lambda\n",
    "array = [[1, 3, 3], [2, 1, 2], [3, 2, 1]]\n",
    "Output :\n",
    "Sorted array specific to column 0, [[1, 3, 3], [2, 1, 2], [3, 2, 1]]\n",
    "Sorted array specific to column 1, [[2, 1, 2], [3, 2, 1], [1, 3, 3]]\n",
    "Sorted array specific to column 2, [[3, 2, 1], [2, 1, 2], [1, 3, 3]]"
   ]
  },
  {
   "cell_type": "code",
   "execution_count": 58,
   "id": "dc883308",
   "metadata": {},
   "outputs": [
    {
     "name": "stdout",
     "output_type": "stream",
     "text": [
      "Sorted array specific to column 0,[[1, 3, 3], [2, 1, 2], [3, 2, 1]]\n",
      "Sorted array specific to column 1,[[2, 1, 2], [3, 2, 1], [1, 3, 3]]\n",
      "Sorted array specific to column 2,[[3, 2, 1], [2, 1, 2], [1, 3, 3]]\n"
     ]
    }
   ],
   "source": [
    "def sort_lists(li):\n",
    "    for i in range(len(li[0])):\n",
    "        li=sorted(li,key= lambda x:x[i])\n",
    "        print(f\"Sorted array specific to column {i},{li}\")\n",
    "        \n",
    "sort_lists([[1, 3, 3],[2, 1, 2], [3, 2, 1]])"
   ]
  },
  {
   "cell_type": "markdown",
   "id": "ada7c26e",
   "metadata": {},
   "source": [
    "**40- write a program to Sort Python Dictionaries by Key or Value\n",
    "Input:\n",
    "{'ravi': 10, 'rajnish': 9, 'sanjeev': 15, 'yash': 2, 'suraj': 32}\n",
    "\n",
    "Output: \n",
    "{'rajnish': 9, 'ravi': 10, 'sanjeev': 15, 'suraj': 32, 'yash': 2}"
   ]
  },
  {
   "cell_type": "code",
   "execution_count": 73,
   "id": "a96db4a0",
   "metadata": {},
   "outputs": [
    {
     "data": {
      "text/plain": [
       "{'rajnish': 9, 'ravi': 10, 'sanjeev': 15, 'suraj': 32, 'yash': 2}"
      ]
     },
     "execution_count": 73,
     "metadata": {},
     "output_type": "execute_result"
    }
   ],
   "source": [
    "def sort_dictionary(dic):\n",
    "    dic=dict(sorted(dic.items()))\n",
    "    return dic\n",
    "sort_dictionary({'ravi': 10, 'rajnish': 9, 'sanjeev': 15, 'yash': 2, 'suraj': 32})"
   ]
  },
  {
   "cell_type": "markdown",
   "id": "ec63c23a",
   "metadata": {},
   "source": [
    "**41-write python program to Remove keys with Values Greater than K ( Including mixed values )\n",
    "nput : \n",
    "test_dict = {‘Gfg’ : 3, ‘is’ : 7, ‘best’ : 10, ‘for’ : 6, ‘geeks’ : ‘CS’},\n",
    "K = 7 \n",
    "Output : {‘Gfg’ : 3, ‘for’ : 6, ‘geeks’ : ‘CS’}"
   ]
  },
  {
   "cell_type": "code",
   "execution_count": 85,
   "id": "e39c3a40",
   "metadata": {},
   "outputs": [
    {
     "data": {
      "text/plain": [
       "{'Gfg': 3, 'for': 6, 'geeks': 'CS'}"
      ]
     },
     "execution_count": 85,
     "metadata": {},
     "output_type": "execute_result"
    }
   ],
   "source": [
    "def remove_dic(dic,k):\n",
    "    new_dic=dic.copy()\n",
    "    for key,value in dic.items():\n",
    "        if type(value)==int and value>=k:\n",
    "            del new_dic[key]\n",
    "    return new_dic\n",
    "remove_dic({'Gfg' : 3, 'is' : 7, 'best' : 10, 'for' : 6, 'geeks' : 'CS'},7)"
   ]
  },
  {
   "cell_type": "markdown",
   "id": "f143f0fe",
   "metadata": {},
   "source": [
    "**42-Write a Python program to concatenate the following dictionaries to create a new one\n",
    "\n",
    "Sample Dictionary :\n",
    "dic1={1:10, 2:20}\n",
    "dic2={3:30, 4:40}\n",
    "dic3={5:50,6:60}\n",
    "Expected Result : {1: 10, 2: 20, 3: 30, 4: 40, 5: 50, 6: 60}"
   ]
  },
  {
   "cell_type": "code",
   "execution_count": null,
   "id": "14823318",
   "metadata": {},
   "outputs": [],
   "source": [
    "dic1={1:10, 2:20}\n",
    "dic2={3:30, 4:40}\n",
    "dic3={5:50,6:60}\n",
    "dic3|=dic2|dic1"
   ]
  },
  {
   "cell_type": "code",
   "execution_count": 93,
   "id": "74ffdfea",
   "metadata": {},
   "outputs": [
    {
     "data": {
      "text/plain": [
       "{1: 10, 2: 20, 3: 30, 4: 40, 5: 50, 6: 60}"
      ]
     },
     "execution_count": 93,
     "metadata": {},
     "output_type": "execute_result"
    }
   ],
   "source": [
    "dic1={1:10, 2:20}\n",
    "dic2={3:30, 4:40}\n",
    "dic3={5:50,6:60}\n",
    "dic2.update(dic3)\n",
    "dic1.update(dic2)\n",
    "dic1"
   ]
  },
  {
   "cell_type": "markdown",
   "id": "fb04c93c",
   "metadata": {},
   "source": [
    "**43-Write a Python program to iterate over dictionaries using for loops"
   ]
  },
  {
   "cell_type": "code",
   "execution_count": 1,
   "id": "6aebc470",
   "metadata": {},
   "outputs": [
    {
     "name": "stdout",
     "output_type": "stream",
     "text": [
      "value of 1 is 10\n",
      "value of 2 is 20\n",
      "value of 3 is 30\n",
      "value of 4 is 40\n",
      "value of 5 is 50\n",
      "value of 6 is 60\n"
     ]
    }
   ],
   "source": [
    "dic={1: 10, 2: 20, 3: 30, 4: 40, 5: 50, 6: 60}\n",
    "for key,value in dic.items():\n",
    "    print(f\"value of {key} is {value}\")"
   ]
  },
  {
   "cell_type": "markdown",
   "id": "5f491a9d",
   "metadata": {},
   "source": [
    "**44- Write a Python script to merge two Python dictionaries"
   ]
  },
  {
   "cell_type": "code",
   "execution_count": 2,
   "id": "b8a14028",
   "metadata": {},
   "outputs": [
    {
     "data": {
      "text/plain": [
       "{1: 10, 2: 20, 3: 30, 4: 40}"
      ]
     },
     "execution_count": 2,
     "metadata": {},
     "output_type": "execute_result"
    }
   ],
   "source": [
    "def merge_dictionaries(dic1,dic2):\n",
    "    for key,value in dic2.items():\n",
    "        dic1[key]=value\n",
    "    return dic1\n",
    "dic1={1:10, 2:20}\n",
    "dic2={3:30, 4:40}\n",
    "merge_dictionaries(dic1,dic2)"
   ]
  },
  {
   "cell_type": "markdown",
   "id": "216fc72d",
   "metadata": {},
   "source": [
    "**45-Write a Python program to get the maximum and minimum values of a dictionary values"
   ]
  },
  {
   "cell_type": "code",
   "execution_count": 3,
   "id": "d6883f5f",
   "metadata": {},
   "outputs": [
    {
     "name": "stdout",
     "output_type": "stream",
     "text": [
      "Max = 40\n",
      "Min = 10\n"
     ]
    }
   ],
   "source": [
    "def max_min(dic):\n",
    "    print(f\"Max = {max(dic.values())}\\nMin = {min(dic.values())}\")\n",
    "max_min({1: 10, 2: 20, 3: 30, 4: 40})"
   ]
  },
  {
   "cell_type": "markdown",
   "id": "b6a53011",
   "metadata": {},
   "source": [
    "**46- Write a Python program to drop empty items from a given dictionary.\n",
    "Original Dictionary:\n",
    "{'c1': 'Red', 'c2': 'Green', 'c3': None}\n",
    "New Dictionary after dropping empty items:\n",
    "{'c1': 'Red', 'c2': 'Green'}"
   ]
  },
  {
   "cell_type": "code",
   "execution_count": 5,
   "id": "b5c6fecf",
   "metadata": {},
   "outputs": [
    {
     "data": {
      "text/plain": [
       "{'c1': 'Red', 'c2': 'Green'}"
      ]
     },
     "execution_count": 5,
     "metadata": {},
     "output_type": "execute_result"
    }
   ],
   "source": [
    "def remove_null(dic):\n",
    "    new_dic=dic.copy()\n",
    "    for key,value in dic.items():\n",
    "        if value==None : del new_dic[key]\n",
    "    return new_dic\n",
    "remove_null({'c1': 'Red', 'c2': 'Green', 'c3': None})"
   ]
  },
  {
   "cell_type": "markdown",
   "id": "46d718c7",
   "metadata": {},
   "source": [
    "**47-Write a Python program to create a tuple of numbers and print one item"
   ]
  },
  {
   "cell_type": "code",
   "execution_count": 7,
   "id": "13216ff5",
   "metadata": {},
   "outputs": [
    {
     "data": {
      "text/plain": [
       "1"
      ]
     },
     "execution_count": 7,
     "metadata": {},
     "output_type": "execute_result"
    }
   ],
   "source": [
    "t=(1,2,3,4,5,6)\n",
    "t[0]"
   ]
  },
  {
   "cell_type": "markdown",
   "id": "2be5b56b",
   "metadata": {},
   "source": [
    "**48-Write a Python program to unpack a tuple into several variables"
   ]
  },
  {
   "cell_type": "code",
   "execution_count": 37,
   "id": "595f44be",
   "metadata": {},
   "outputs": [
    {
     "data": {
      "text/plain": [
       "{'name1': 'Mina', 'name2': 'Remon', 'name3': 'Adel', 'name4': 'Tawfik'}"
      ]
     },
     "execution_count": 37,
     "metadata": {},
     "output_type": "execute_result"
    }
   ],
   "source": [
    "def unpack(t):\n",
    "    dic={}\n",
    "    for i in range(len(t)):\n",
    "        dic[f\"name{i+1}\"]=t[i]\n",
    "    return dic\n",
    "tu=(\"Mina\",\"Remon\",\"Adel\",\"Tawfik\")\n",
    "unpack(tu)"
   ]
  },
  {
   "cell_type": "markdown",
   "id": "392388a7",
   "metadata": {},
   "source": [
    "**49-Write a Python program to add an item to a tuple"
   ]
  },
  {
   "cell_type": "code",
   "execution_count": 8,
   "id": "54cc092e",
   "metadata": {},
   "outputs": [
    {
     "data": {
      "text/plain": [
       "(1, 2, 3, 4, 5)"
      ]
     },
     "execution_count": 8,
     "metadata": {},
     "output_type": "execute_result"
    }
   ],
   "source": [
    "def add_to_tuple(t,item):\n",
    "    t+=(item,)\n",
    "    return t\n",
    "add_to_tuple((1,2,3,4),5)"
   ]
  },
  {
   "cell_type": "code",
   "execution_count": 14,
   "id": "a37b5cba",
   "metadata": {},
   "outputs": [
    {
     "data": {
      "text/plain": [
       "(1, 2, 3, 4, 5)"
      ]
     },
     "execution_count": 14,
     "metadata": {},
     "output_type": "execute_result"
    }
   ],
   "source": [
    "def add_to_tuple2(t,item):\n",
    "    t=list(t)\n",
    "    t.append(item)\n",
    "    t=tuple(t)\n",
    "    return t\n",
    "add_to_tuple2((1,2,3,4),5)"
   ]
  },
  {
   "cell_type": "markdown",
   "id": "3e8fd124",
   "metadata": {},
   "source": [
    "**50-Write a Python program to convert a tuple to a string"
   ]
  },
  {
   "cell_type": "code",
   "execution_count": 19,
   "id": "92a71ddc",
   "metadata": {},
   "outputs": [
    {
     "data": {
      "text/plain": [
       "'Hello World 3'"
      ]
     },
     "execution_count": 19,
     "metadata": {},
     "output_type": "execute_result"
    }
   ],
   "source": [
    "def tuple_to_string(t):\n",
    "    t=list(t)\n",
    "    for i in range(len(t)):\n",
    "        if not t[i]==str:\n",
    "            t[i]=str(t[i])\n",
    "    return \" \".join(t)\n",
    "tuple_to_string((\"Hello\",\"World\",3))"
   ]
  },
  {
   "cell_type": "markdown",
   "id": "f4f64ef4",
   "metadata": {},
   "source": [
    "**51-Write a Python program to convert a list to a tuple"
   ]
  },
  {
   "cell_type": "code",
   "execution_count": 20,
   "id": "210d56d3",
   "metadata": {},
   "outputs": [
    {
     "data": {
      "text/plain": [
       "(1, 2, 3, 4)"
      ]
     },
     "execution_count": 20,
     "metadata": {},
     "output_type": "execute_result"
    }
   ],
   "source": [
    "def list_to_tuple(li):\n",
    "    return tuple(li)\n",
    "list_to_tuple([1,2,3,4])"
   ]
  },
  {
   "cell_type": "markdown",
   "id": "b1e00ef7",
   "metadata": {},
   "source": [
    "**52-Write a Python program to reverse a tuple"
   ]
  },
  {
   "cell_type": "code",
   "execution_count": 23,
   "id": "f45bfdc7",
   "metadata": {},
   "outputs": [
    {
     "data": {
      "text/plain": [
       "(4, 3, 2, 1)"
      ]
     },
     "execution_count": 23,
     "metadata": {},
     "output_type": "execute_result"
    }
   ],
   "source": [
    "def reverse_tuple(t):\n",
    "    return tuple(sorted(t,reverse=True))\n",
    "reverse_tuple((1,2,3,4))"
   ]
  },
  {
   "cell_type": "markdown",
   "id": "3cd347d1",
   "metadata": {},
   "source": [
    "**53-Write a Python program to replace the last value of tuples in a list.\n",
    "Sample list: [(10, 20, 40), (40, 50, 60), (70, 80, 90)]\n",
    "Expected Output: [(10, 20, 100), (40, 50, 100), (70, 80, 100)]"
   ]
  },
  {
   "cell_type": "code",
   "execution_count": 27,
   "id": "3c4a2a4c",
   "metadata": {},
   "outputs": [
    {
     "data": {
      "text/plain": [
       "[(10, 20, 100), (40, 50, 100), (70, 80, 100)]"
      ]
     },
     "execution_count": 27,
     "metadata": {},
     "output_type": "execute_result"
    }
   ],
   "source": [
    "def replace_end(li,new_num):\n",
    "    for i in range(len(li)):\n",
    "        small_li=list(li[i])\n",
    "        small_li[-1]=new_num\n",
    "        li[i]=tuple(small_li)\n",
    "    return li\n",
    "replace_end([(10, 20, 40), (40, 50, 60), (70, 80, 90)],100)"
   ]
  },
  {
   "cell_type": "markdown",
   "id": "76bb7b39",
   "metadata": {},
   "source": [
    "**54-Write a Python program to convert a given string list to a tuple\n",
    "Original string: python 3.0\n",
    "<class 'str'>\n",
    "Convert the said string to a tuple:\n",
    "('p', 'y', 't', 'h', 'o', 'n', '3', '.', '0')"
   ]
  },
  {
   "cell_type": "code",
   "execution_count": 28,
   "id": "51951937",
   "metadata": {},
   "outputs": [
    {
     "data": {
      "text/plain": [
       "('p', 'y', 'h', 't', 'o', 'n', '3', '.', '0')"
      ]
     },
     "execution_count": 28,
     "metadata": {},
     "output_type": "execute_result"
    }
   ],
   "source": [
    "def str_to_tuple(string):\n",
    "    return tuple(string)\n",
    "str_to_tuple(\"pyhton3.0\")"
   ]
  },
  {
   "cell_type": "markdown",
   "id": "5a1d5d97",
   "metadata": {},
   "source": [
    "**55-Write a Python program to calculate the average value of the numbers in a given tuple of tuples"
   ]
  },
  {
   "cell_type": "code",
   "execution_count": 30,
   "id": "834e7992",
   "metadata": {},
   "outputs": [
    {
     "name": "stdout",
     "output_type": "stream",
     "text": [
      "the average of tuple(1, 2, 3) is equal 2.0\n",
      "the average of tuple(4, 5, 69) is equal 26.0\n"
     ]
    }
   ],
   "source": [
    "def calc_avg(t):\n",
    "    for i in t:\n",
    "        avg=0\n",
    "        for j in i:\n",
    "            avg+=j\n",
    "        avg/=len(i)\n",
    "        print(f\"the average of tuple{i} is equal {avg}\")\n",
    "calc_avg(((1,2,3),(4,5,69)))"
   ]
  },
  {
   "cell_type": "markdown",
   "id": "51edab9c",
   "metadata": {},
   "source": [
    "**56-Write a Python program to add member(s) to a set."
   ]
  },
  {
   "cell_type": "code",
   "execution_count": 31,
   "id": "2b65df79",
   "metadata": {},
   "outputs": [
    {
     "data": {
      "text/plain": [
       "{1, 2, 3, 4, 5, 6}"
      ]
     },
     "execution_count": 31,
     "metadata": {},
     "output_type": "execute_result"
    }
   ],
   "source": [
    "def add_to_set(s,*values):\n",
    "    values=set(values)\n",
    "    s.update(values)\n",
    "    return s\n",
    "add_to_set({1,2,3},4,5,6)"
   ]
  },
  {
   "cell_type": "markdown",
   "id": "965590cc",
   "metadata": {},
   "source": [
    "**57-Write a Python program to remove an item from a set if it is present in the set."
   ]
  },
  {
   "cell_type": "code",
   "execution_count": 35,
   "id": "866bab28",
   "metadata": {},
   "outputs": [
    {
     "name": "stdout",
     "output_type": "stream",
     "text": [
      "Not found\n",
      "{1, 2, 3}\n",
      "Remove succefully\n",
      "{1, 2}\n"
     ]
    }
   ],
   "source": [
    "#we can use discard() and will not raise error if not found\n",
    "#but to practice I used remove() and handled exceptions \n",
    "def remove_from_set(s,item):\n",
    "    try:\n",
    "        s.remove(item)\n",
    "    except KeyError:\n",
    "        print(\"Not found\")\n",
    "    else:\n",
    "        print(\"Remove succefully\")\n",
    "    finally:\n",
    "        return s\n",
    "print(remove_from_set({1,2,3},4))\n",
    "print(remove_from_set({1,2,3},3))"
   ]
  },
  {
   "cell_type": "markdown",
   "id": "2b7cfed1",
   "metadata": {},
   "source": [
    "**58-Write a Python program to create an intersection,union,difference and symmetric difference of sets"
   ]
  },
  {
   "cell_type": "code",
   "execution_count": 36,
   "id": "7f94b7fe",
   "metadata": {},
   "outputs": [
    {
     "name": "stdout",
     "output_type": "stream",
     "text": [
      "Intersection = {5, 6, 7}\n",
      "Union = {1, 2, 3, 4, 5, 6, 7, 8, 9, 10, 11}\n",
      "Difference = {1, 2, 3, 4}\n",
      "Symmetric difference = {1, 2, 3, 4, 8, 9, 10, 11}\n"
     ]
    }
   ],
   "source": [
    "def operations_on_sets(*sets):\n",
    "    intersection=s1.intersection(s2)\n",
    "    union=s1.union(s2)\n",
    "    difference=s1.difference(s2)\n",
    "    symmetric_difference=s1.symmetric_difference(s2)\n",
    "    print(f\"Intersection = {intersection}\\nUnion = {union}\\nDifference = {difference}\\nSymmetric difference = {symmetric_difference}\")\n",
    "operations_on_sets({1,2,3,4,5,6,7},{5,6,7,8,9,10,11})"
   ]
  },
  {
   "cell_type": "markdown",
   "id": "b94931e2",
   "metadata": {},
   "source": [
    "**59-Write a Python program to find the maximum and minimum values in a set"
   ]
  },
  {
   "cell_type": "code",
   "execution_count": 94,
   "id": "203f9600",
   "metadata": {},
   "outputs": [
    {
     "name": "stdout",
     "output_type": "stream",
     "text": [
      "Max = 4\n",
      "Min = 1\n"
     ]
    }
   ],
   "source": [
    "def max_min(se):\n",
    "    print(f\"Max = {max(se)}\\nMin = {min(se)}\")\n",
    "max_min((1,2,3,4))"
   ]
  },
  {
   "cell_type": "markdown",
   "id": "255fd554",
   "metadata": {},
   "source": [
    "**60- Write a Python program that finds all pairs of elements in a list whose sum is equal to a given value."
   ]
  },
  {
   "cell_type": "code",
   "execution_count": 55,
   "id": "53a7a0cb",
   "metadata": {},
   "outputs": [
    {
     "data": {
      "text/plain": [
       "[(2, 4), (1, 5), (7, -1)]"
      ]
     },
     "execution_count": 55,
     "metadata": {},
     "output_type": "execute_result"
    }
   ],
   "source": [
    "def get_pairs2(li,res):\n",
    "    pairs=[]\n",
    "    while(li):\n",
    "        i=li[0]\n",
    "        j=res-i\n",
    "        if j in li:\n",
    "            pairs.append((i,j))\n",
    "            li.remove(j)\n",
    "        li.remove(i)\n",
    "    return pairs\n",
    "li=[2, 1, 5, 7, -1, 4]\n",
    "get_pairs2(li,6)\n",
    "\n",
    "#Get only numbers for example from geeksforgeeks"
   ]
  },
  {
   "cell_type": "markdown",
   "id": "f5f990ce",
   "metadata": {},
   "source": [
    "**61- Make do While loop using python"
   ]
  },
  {
   "cell_type": "code",
   "execution_count": 58,
   "id": "54e24f3d",
   "metadata": {},
   "outputs": [
    {
     "name": "stdout",
     "output_type": "stream",
     "text": [
      "1\n",
      "Yes\n"
     ]
    }
   ],
   "source": [
    "#I will make do while loop for print yes until the input <=3\n",
    "x=int(input())\n",
    "flag=False\n",
    "while(True):\n",
    "    if (x<=3) and flag:\n",
    "        break\n",
    "    print(\"Yes\")\n",
    "    flag=True\n",
    "    x-=1"
   ]
  },
  {
   "cell_type": "markdown",
   "id": "c6a55e48",
   "metadata": {},
   "source": [
    "* In the previous code will print yes at least once no matter input like do while"
   ]
  }
 ],
 "metadata": {
  "kernelspec": {
   "display_name": "Python 3 (ipykernel)",
   "language": "python",
   "name": "python3"
  },
  "language_info": {
   "codemirror_mode": {
    "name": "ipython",
    "version": 3
   },
   "file_extension": ".py",
   "mimetype": "text/x-python",
   "name": "python",
   "nbconvert_exporter": "python",
   "pygments_lexer": "ipython3",
   "version": "3.9.13"
  }
 },
 "nbformat": 4,
 "nbformat_minor": 5
}
